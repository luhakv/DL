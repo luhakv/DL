{
  "nbformat": 4,
  "nbformat_minor": 0,
  "metadata": {
    "colab": {
      "name": "PyTorch_tensors.ipynb",
      "provenance": []
    },
    "kernelspec": {
      "name": "python3",
      "display_name": "Python 3"
    }
  },
  "cells": [
    {
      "cell_type": "markdown",
      "metadata": {
        "id": "girA51a7p2KQ"
      },
      "source": [
        "**PyTorch** идет предустановленным в Google Colab, просто импортируем"
      ]
    },
    {
      "cell_type": "code",
      "metadata": {
        "id": "x9pn2-oIpD9l"
      },
      "source": [
        "import torch\r\n",
        "import numpy as np"
      ],
      "execution_count": null,
      "outputs": []
    },
    {
      "cell_type": "markdown",
      "metadata": {
        "id": "ymOllVpQuE4-"
      },
      "source": [
        "**Матричное умножение** - операция над матрицами, где результирующая матрица составлена скалярными произведениями строк и рядов\r\n",
        "\r\n",
        "**Скалярное произведение** двух векторов - сумма произведений элементов в соответствующих позициях этих векторов"
      ]
    },
    {
      "cell_type": "code",
      "metadata": {
        "colab": {
          "base_uri": "https://localhost:8080/"
        },
        "id": "4HxJbtpyy6Xv",
        "outputId": "0a1155be-a350-4f1a-fc77-de5ab6e63583"
      },
      "source": [
        "v1 = np.array([1, 2])\r\n",
        "v2 = np.array([3, 4])\r\n",
        "np.dot(v1, v2)"
      ],
      "execution_count": null,
      "outputs": [
        {
          "output_type": "execute_result",
          "data": {
            "text/plain": [
              "11"
            ]
          },
          "metadata": {
            "tags": []
          },
          "execution_count": 9
        }
      ]
    },
    {
      "cell_type": "code",
      "metadata": {
        "colab": {
          "base_uri": "https://localhost:8080/"
        },
        "id": "rsjUyXTNubRe",
        "outputId": "53eb24b9-5252-4390-a73b-4e36753e9f64"
      },
      "source": [
        "t1 = torch.Tensor([[1, 2], [3, 4]])\r\n",
        "t2 = torch.ones(2, 2) * 2\r\n",
        "print(t1)\r\n",
        "print(t2)"
      ],
      "execution_count": null,
      "outputs": [
        {
          "output_type": "stream",
          "text": [
            "tensor([[1., 2.],\n",
            "        [3., 4.]])\n",
            "tensor([[2., 2.],\n",
            "        [2., 2.]])\n"
          ],
          "name": "stdout"
        }
      ]
    },
    {
      "cell_type": "markdown",
      "metadata": {
        "id": "nyKejETv1F0Q"
      },
      "source": [
        "теперь умножим эти две матрицы операцией **@** (аналог - torch.**matmul**())"
      ]
    },
    {
      "cell_type": "code",
      "metadata": {
        "colab": {
          "base_uri": "https://localhost:8080/"
        },
        "id": "f0Ww9Td5utiW",
        "outputId": "d73f3faa-1108-4438-8761-7f0c2252d049"
      },
      "source": [
        "t1 @ t2"
      ],
      "execution_count": null,
      "outputs": [
        {
          "output_type": "execute_result",
          "data": {
            "text/plain": [
              "tensor([[ 6.,  6.],\n",
              "        [14., 14.]])"
            ]
          },
          "metadata": {
            "tags": []
          },
          "execution_count": 11
        }
      ]
    },
    {
      "cell_type": "markdown",
      "metadata": {
        "id": "_uAFKDy01rNe"
      },
      "source": [
        "**Задание**: вычислить выражение\r\n",
        "\r\n",
        "**Дано**: 2 матричных тензора **t1** и **t2**"
      ]
    },
    {
      "cell_type": "code",
      "metadata": {
        "colab": {
          "base_uri": "https://localhost:8080/"
        },
        "id": "B2u-ftYJraZO",
        "outputId": "a661d837-694f-4e74-c431-4fde11266288"
      },
      "source": [
        "t1 = torch.stack([torch.Tensor([1, 1, 1, 1]) * n for n in range(1, 5)])\r\n",
        "t2 = t1.transpose(-1, -2)\r\n",
        "print(t1)\r\n",
        "print(t2)"
      ],
      "execution_count": null,
      "outputs": [
        {
          "output_type": "stream",
          "text": [
            "tensor([[1., 1., 1., 1.],\n",
            "        [2., 2., 2., 2.],\n",
            "        [3., 3., 3., 3.],\n",
            "        [4., 4., 4., 4.]])\n",
            "tensor([[1., 2., 3., 4.],\n",
            "        [1., 2., 3., 4.],\n",
            "        [1., 2., 3., 4.],\n",
            "        [1., 2., 3., 4.]])\n"
          ],
          "name": "stdout"
        }
      ]
    },
    {
      "cell_type": "markdown",
      "metadata": {
        "id": "TLD4zARs6vS_"
      },
      "source": [
        "**1**) Вычислить выражение **t3** = t1 ** 2 - t2 * 2 + t1 * 4\r\n",
        "\r\n",
        "2) Сделать конкатенацию тензоров **t2** и **t3**, записать в тензор **t4** (должна получиться размерность 4 строки и 8 столбцов) \r\n",
        "\r\n",
        "Конкатенация - операция, в которой результирующая матрица составлена из рядов первой и второй матрицы, если конкатенация идет вдоль столбцов, или из столбцов первой и второй матрицы, если конкатенация идет вдоль строк. \r\n",
        "\r\n",
        "Делается оператором **torch.cat**(tensors, dim), где\r\n",
        "\r\n",
        "**tensors** - список исходных тензоров\r\n",
        "\r\n",
        "**dim** - измерение, вдоль которого делается конкатенация, 0 - вдоль столбцов, 1 - вдоль строк\r\n",
        "\r\n",
        "\r\n",
        "\r\n",
        "3) Посчитать скалярное произведение **первой** и **последней** строки матрицы тензора **t4**"
      ]
    },
    {
      "cell_type": "code",
      "metadata": {
        "id": "g05gAqVEtO-F"
      },
      "source": [
        ""
      ],
      "execution_count": null,
      "outputs": []
    }
  ]
}