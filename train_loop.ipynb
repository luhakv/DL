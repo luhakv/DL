{
  "nbformat": 4,
  "nbformat_minor": 0,
  "metadata": {
    "colab": {
      "name": "train_loop.ipynb",
      "provenance": []
    },
    "kernelspec": {
      "name": "python3",
      "display_name": "Python 3"
    },
    "accelerator": "GPU"
  },
  "cells": [
    {
      "cell_type": "markdown",
      "metadata": {
        "id": "USoiuVcy8Maq"
      },
      "source": [
        "Делаем полноценный скрипт для обучения нейросети, это будет нейросеть для задачи линейной регрессии"
      ]
    },
    {
      "cell_type": "markdown",
      "metadata": {
        "id": "bcCC4aYK8jUF"
      },
      "source": [
        "Сгенерируем наши исходные данные"
      ]
    },
    {
      "cell_type": "code",
      "metadata": {
        "id": "tEWF08_j9DQE"
      },
      "source": [
        "import torch\r\n",
        "import numpy as np\r\n",
        "import matplotlib.pyplot as plt"
      ],
      "execution_count": null,
      "outputs": []
    },
    {
      "cell_type": "markdown",
      "metadata": {
        "id": "qLjKHQez9Py8"
      },
      "source": [
        "Для начала определимся с тем, где будут жить наши тензоры: на GPU или CPU"
      ]
    },
    {
      "cell_type": "code",
      "metadata": {
        "colab": {
          "base_uri": "https://localhost:8080/",
          "height": 35
        },
        "id": "wiIolS6A7e_Y",
        "outputId": "2b92f566-f173-4efe-a96a-3a702d73cf8d"
      },
      "source": [
        "device = 'cuda' if torch.cuda.is_available() else 'cpu'\r\n",
        "device"
      ],
      "execution_count": null,
      "outputs": [
        {
          "output_type": "execute_result",
          "data": {
            "application/vnd.google.colaboratory.intrinsic+json": {
              "type": "string"
            },
            "text/plain": [
              "'cuda'"
            ]
          },
          "metadata": {
            "tags": []
          },
          "execution_count": 2
        }
      ]
    },
    {
      "cell_type": "markdown",
      "metadata": {
        "id": "BC5bjVPe-mAO"
      },
      "source": [
        "Сгенерируем исходные данные для линейной регрессии"
      ]
    },
    {
      "cell_type": "code",
      "metadata": {
        "colab": {
          "base_uri": "https://localhost:8080/",
          "height": 282
        },
        "id": "pmHV2gSv-ujc",
        "outputId": "2b0126f3-498a-4efb-8893-f1b398040c0c"
      },
      "source": [
        "np.random.seed(42)\r\n",
        "data_size = 100\r\n",
        "\r\n",
        "x = np.random.rand(data_size, 1)\r\n",
        "y = 1 + 2 * x + .1 * np.random.randn(data_size, 1)\r\n",
        "\r\n",
        "# Перемешаем индексы\r\n",
        "idx = np.arange(data_size)\r\n",
        "np.random.shuffle(idx)\r\n",
        "\r\n",
        "# Возьмем первые 80% для тренировки\r\n",
        "margin = int(data_size * 0.8)\r\n",
        "train_idx = idx[:margin]\r\n",
        "# оставшиеся 20% для валидации\r\n",
        "val_idx = idx[margin:]\r\n",
        "\r\n",
        "# Соберем датасеты\r\n",
        "x_train, y_train = x[train_idx], y[train_idx]\r\n",
        "x_val, y_val = x[val_idx], y[val_idx]\r\n",
        "\r\n",
        "plt.plot(x_train, y_train, 'o')\r\n",
        "plt.plot(x_val, y_val, 'o')"
      ],
      "execution_count": null,
      "outputs": [
        {
          "output_type": "execute_result",
          "data": {
            "text/plain": [
              "[<matplotlib.lines.Line2D at 0x7faf4a62f590>]"
            ]
          },
          "metadata": {
            "tags": []
          },
          "execution_count": 15
        },
        {
          "output_type": "display_data",
          "data": {
            "image/png": "[encoded data removed]",
            "text/plain": [
              "<Figure size 432x288 with 1 Axes>"
            ]
          },
          "metadata": {
            "tags": [],
            "needs_background": "light"
          }
        }
      ]
    },
    {
      "cell_type": "markdown",
      "metadata": {
        "id": "6YrCxCHdCia-"
      },
      "source": [
        "Определим гиперпараметры: количество эпох и шаг обучения. Зафиксируем генератор случайных чисел в PyTorch"
      ]
    },
    {
      "cell_type": "code",
      "metadata": {
        "colab": {
          "base_uri": "https://localhost:8080/"
        },
        "id": "MrXV8kvS9bzt",
        "outputId": "888a8348-be42-4aa4-bb94-a51bb168ad51"
      },
      "source": [
        "lr = 1e-1\r\n",
        "n_epochs = 1000\r\n",
        "torch.manual_seed(42)"
      ],
      "execution_count": null,
      "outputs": [
        {
          "output_type": "execute_result",
          "data": {
            "text/plain": [
              "<torch._C.Generator at 0x7faf53feb3b0>"
            ]
          },
          "metadata": {
            "tags": []
          },
          "execution_count": 16
        }
      ]
    },
    {
      "cell_type": "markdown",
      "metadata": {
        "id": "kyXsOPZID_bm"
      },
      "source": [
        "Создадим тензоры для исходных данных"
      ]
    },
    {
      "cell_type": "code",
      "metadata": {
        "id": "lZ7TBQw9D_11"
      },
      "source": [
        "x_train_tensor = torch.from_numpy(x_train).float().to(device)\r\n",
        "y_train_tensor = torch.from_numpy(y_train).float().to(device)"
      ],
      "execution_count": null,
      "outputs": []
    },
    {
      "cell_type": "markdown",
      "metadata": {
        "id": "DPanF4YUC8gU"
      },
      "source": [
        "Создадим тензоры для параметров регрессии **а** и **b**. Инициализируем их случайными значениями\r\n",
        "\r\n",
        "Обратите внимание на параметр **requires_grad**=**True**, таким образом мы сообщаем PyTorch, что он должен менять эти значения"
      ]
    },
    {
      "cell_type": "code",
      "metadata": {
        "colab": {
          "base_uri": "https://localhost:8080/"
        },
        "id": "cfDyspAODfhW",
        "outputId": "a0ee2ce0-f35b-49bb-aca1-fb44017c8631"
      },
      "source": [
        "a = torch.randn(1, requires_grad=True, dtype=torch.float, device=device)\r\n",
        "b = torch.randn(1, requires_grad=True, dtype=torch.float, device=device)\r\n",
        "a"
      ],
      "execution_count": null,
      "outputs": [
        {
          "output_type": "execute_result",
          "data": {
            "text/plain": [
              "tensor([-0.5187], device='cuda:0', requires_grad=True)"
            ]
          },
          "metadata": {
            "tags": []
          },
          "execution_count": 20
        }
      ]
    },
    {
      "cell_type": "markdown",
      "metadata": {
        "id": "vkPJMtgdEnOW"
      },
      "source": [
        "Собственно, цикл обучения"
      ]
    },
    {
      "cell_type": "code",
      "metadata": {
        "colab": {
          "base_uri": "https://localhost:8080/"
        },
        "id": "-kx7uB75FDKl",
        "outputId": "2646c436-39df-479f-a482-878bcc0a85e3"
      },
      "source": [
        "import torch.optim as optim\r\n",
        "\r\n",
        "# Оптимизатор будет обновлять параметры\r\n",
        "optimizer = optim.SGD([a, b], lr=lr)\r\n",
        "\r\n",
        "for epoch in range(n_epochs):\r\n",
        "    # Считаем целевую переменную yhat\r\n",
        "    yhat = a + b * x_train_tensor\r\n",
        "    # Считаем ошибку\r\n",
        "    error = y_train_tensor - yhat\r\n",
        "    # Считаем лосс\r\n",
        "    loss = (error ** 2).mean()\r\n",
        "\r\n",
        "    # Здесь считается градиент для каждого тензора (а и b) и записывается в параметры a и b\r\n",
        "    loss.backward()     \r\n",
        "    \r\n",
        "    # Обновляем параметры. Обязательно делать это в режиме no_grad()\r\n",
        "    # with torch.no_grad():\r\n",
        "    #     a -= lr * a.grad\r\n",
        "    #     b -= lr * b.grad\r\n",
        "    optimizer.step()\r\n",
        "    \r\n",
        "    # Обнуляем градиенты\r\n",
        "    optimizer.zero_grad()\r\n",
        "    \r\n",
        "print(f'a = {a.item()}, b = {b.item()}')"
      ],
      "execution_count": null,
      "outputs": [
        {
          "output_type": "stream",
          "text": [
            "a = 1.023543119430542, b = 1.9689600467681885\n"
          ],
          "name": "stdout"
        }
      ]
    },
    {
      "cell_type": "code",
      "metadata": {
        "id": "TcOeLMIBFKBc"
      },
      "source": [
        ""
      ],
      "execution_count": null,
      "outputs": []
    }
  ]
}