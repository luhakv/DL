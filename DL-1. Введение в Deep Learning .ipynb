{
 "cells": [
  {
   "cell_type": "markdown",
   "metadata": {},
   "source": [
    "## Юнит 8. Введение в нейронные сети\n",
    "### Skillfactory: DSPR-19\n",
    "### DL-1. Введение в Deep Learning "
   ]
  },
  {
   "cell_type": "markdown",
   "metadata": {},
   "source": [
    "### 1. Введение\n",
    "\n",
    "В первом модуле мы рассмотрим:\n",
    "\n",
    "- как строить нейронные сети;\n",
    "- какие типы нейронных сетей бывают;\n",
    "- где сегодня применяются нейронные сети.\n",
    "\n",
    "### 2. Машинное обучение и типы данных\n",
    "\n",
    "Прежде чем переходить к Deep Learning (глубокому обучению), актуализируем информацию по машинному обучению.\n",
    "\n",
    "Машинное обучение с высоты птичьего полёта можно рассмотреть как некоторое отображение входных данных в выходные данные. Как правило, этим занимается некоторая модель, которая зависит от заданных параметров. Эти параметры характеризуют то, как модель себя ведёт, как она предсказывает выходные значения по входным значениям. Подстройка этих параметров и есть машинное обучение."
   ]
  },
  {
   "cell_type": "code",
   "execution_count": null,
   "metadata": {},
   "outputs": [],
   "source": []
  }
 ],
 "metadata": {
  "kernelspec": {
   "display_name": "Python 3",
   "language": "python",
   "name": "python3"
  },
  "language_info": {
   "codemirror_mode": {
    "name": "ipython",
    "version": 3
   },
   "file_extension": ".py",
   "mimetype": "text/x-python",
   "name": "python",
   "nbconvert_exporter": "python",
   "pygments_lexer": "ipython3",
   "version": "3.8.3"
  }
 },
 "nbformat": 4,
 "nbformat_minor": 4
}
